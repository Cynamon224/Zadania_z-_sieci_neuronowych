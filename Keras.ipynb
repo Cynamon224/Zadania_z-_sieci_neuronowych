{
  "cells": [
    {
      "cell_type": "markdown",
      "metadata": {
        "id": "9D-Q5o6WxMb0"
      },
      "source": [
        "# Census Income Example\n",
        "This is a Keras example of classification problem. To simplify the data preparation part I used the Census problem from the Sci-Kit Learn class.\n",
        "\n",
        "The dataset comes from http://archive.ics.uci.edu/. \n",
        "\n",
        "Data extraction was done by Barry Becker from the 1994 Census database. A set of reasonably clean records was extracted using the following conditions: ((AAGE>16) && (AGI>100) && (AFNLWGT>1)&& (HRSWK>0)). The data was also preprocessed for the purpose of this example.\n",
        "\n",
        "Prediction task is to determine whether a person makes over 50K a year.\n",
        "\n",
        "\n",
        "### List of attributes:\n",
        "\n",
        "##### Features\n",
        "- age: continuous. \n",
        "- workclass: Private, Self-emp-not-inc, Self-emp-inc, Federal-gov, Local-gov, State-gov, Without-pay, Never-worked. \n",
        "- education: Bachelors, Some-college, 11th, HS-grad, Prof-school, Assoc-acdm, Assoc-voc, 9th, 7th-8th, 12th, Masters, 1st-4th, - 10th, Doctorate, 5th-6th, Preschool. \n",
        "- education-num: continuous. \n",
        "- marital-status: Married-civ-spouse, Divorced, Never-married, Separated, Widowed, Married-spouse-absent, Married-AF-spouse. \n",
        "- occupation: Tech-support, Craft-repair, Other-service, Sales, Exec-managerial, Prof-specialty, Handlers-cleaners, Machine-op-inspct, Adm-clerical, Farming-fishing, Transport-moving, Priv-house-serv, Protective-serv, Armed-Forces. \n",
        "- relationship: Wife, Own-child, Husband, Not-in-family, Other-relative, Unmarried. \n",
        "- race: White, Asian-Pac-Islander, Amer-Indian-Eskimo, Other, Black. \n",
        "- sex: Female, Male. \n",
        "- hours-per-week: continuous. \n",
        "- native-country: United-States, Cambodia, England, Puerto-Rico, Canada, Germany, Outlying-US(Guam-USVI-etc), India, Japan, Greece, South, China, Cuba, Iran, Honduras, Philippines, Italy, Poland, Jamaica, Vietnam, Mexico, Portugal, Ireland, France, Dominican-Republic, Laos, Ecuador, Taiwan, Haiti, Columbia, Hungary, Guatemala, Nicaragua, Scotland, Thailand, Yugoslavia, El-Salvador, Trinadad&Tobago, Peru, Hong, Holand-Netherlands.\n",
        "\n",
        "\n",
        "\n",
        "##### Labels\n",
        "- income - >50K, <=50K. "
      ]
    },
    {
      "cell_type": "markdown",
      "metadata": {
        "id": "jUohEYL_xMb5"
      },
      "source": [
        "# Install tensorflow\n",
        "If necessary uncomment one of the lines below"
      ]
    },
    {
      "cell_type": "code",
      "execution_count": null,
      "metadata": {
        "id": "NdLDvenwxMb5"
      },
      "outputs": [],
      "source": [
        "# Tensorflow installation - uncomment if necessary\n",
        "#!pip install tensorflow"
      ]
    },
    {
      "cell_type": "markdown",
      "metadata": {
        "id": "8zv526ZHxMb6"
      },
      "source": [
        "# Imports"
      ]
    },
    {
      "cell_type": "code",
      "execution_count": null,
      "metadata": {
        "id": "njp4g-mIxMb7"
      },
      "outputs": [],
      "source": [
        "import pandas as pd\n",
        "import numpy as np\n",
        "import tensorflow as tf\n",
        "\n",
        "import matplotlib.pyplot as plt\n",
        "%matplotlib inline"
      ]
    },
    {
      "cell_type": "markdown",
      "metadata": {
        "id": "BckvBWwUxMb7"
      },
      "source": [
        "### Load dataset"
      ]
    },
    {
      "cell_type": "code",
      "execution_count": null,
      "metadata": {
        "id": "wbJm80OHxMb8"
      },
      "outputs": [],
      "source": [
        "df = pd.read_csv(\"https://github.com/PrzemekSekula/DeepLearningClasses1/raw/master/data/census.csv\")\n",
        "\n"
      ]
    },
    {
      "cell_type": "markdown",
      "metadata": {
        "id": "TcP3_GEMxMb9"
      },
      "source": [
        "# Data preparation\n",
        "### Selecting columns\n",
        "Personaly I decided to delete the following columns:\n",
        "- education - we have education-num, this is enough\n",
        "- marital status - too many classes\n",
        "- relationship - I am not sure if it is useful, and there are many classes\n",
        "- race - I am not sure if it is useful\n",
        "- native-country - too many classes\n",
        "\n",
        "**I deleted many columns just to make the task easier to read. Students are encouraged to experiment with the columns and check if they can improve the results.**\n"
      ]
    },
    {
      "cell_type": "code",
      "execution_count": null,
      "metadata": {
        "id": "jxyO3tcExMb9",
        "colab": {
          "base_uri": "https://localhost:8080/",
          "height": 206
        },
        "outputId": "b267a7b6-6b45-4cbd-b30d-50b5d1148d09"
      },
      "outputs": [
        {
          "output_type": "execute_result",
          "data": {
            "text/plain": [
              "   age         workclass  education-num         occupation     sex  \\\n",
              "0   39         State-gov             13       Adm-clerical    Male   \n",
              "1   50  Self-emp-not-inc             13    Exec-managerial    Male   \n",
              "2   38           Private              9  Handlers-cleaners    Male   \n",
              "3   53           Private              7  Handlers-cleaners    Male   \n",
              "4   28           Private             13     Prof-specialty  Female   \n",
              "\n",
              "   hours-per-week income  \n",
              "0              40  <=50K  \n",
              "1              13  <=50K  \n",
              "2              40  <=50K  \n",
              "3              40  <=50K  \n",
              "4              40  <=50K  "
            ],
            "text/html": [
              "\n",
              "  <div id=\"df-29f07cd0-dcfc-44d6-acc9-3e994798eba0\">\n",
              "    <div class=\"colab-df-container\">\n",
              "      <div>\n",
              "<style scoped>\n",
              "    .dataframe tbody tr th:only-of-type {\n",
              "        vertical-align: middle;\n",
              "    }\n",
              "\n",
              "    .dataframe tbody tr th {\n",
              "        vertical-align: top;\n",
              "    }\n",
              "\n",
              "    .dataframe thead th {\n",
              "        text-align: right;\n",
              "    }\n",
              "</style>\n",
              "<table border=\"1\" class=\"dataframe\">\n",
              "  <thead>\n",
              "    <tr style=\"text-align: right;\">\n",
              "      <th></th>\n",
              "      <th>age</th>\n",
              "      <th>workclass</th>\n",
              "      <th>education-num</th>\n",
              "      <th>occupation</th>\n",
              "      <th>sex</th>\n",
              "      <th>hours-per-week</th>\n",
              "      <th>income</th>\n",
              "    </tr>\n",
              "  </thead>\n",
              "  <tbody>\n",
              "    <tr>\n",
              "      <th>0</th>\n",
              "      <td>39</td>\n",
              "      <td>State-gov</td>\n",
              "      <td>13</td>\n",
              "      <td>Adm-clerical</td>\n",
              "      <td>Male</td>\n",
              "      <td>40</td>\n",
              "      <td>&lt;=50K</td>\n",
              "    </tr>\n",
              "    <tr>\n",
              "      <th>1</th>\n",
              "      <td>50</td>\n",
              "      <td>Self-emp-not-inc</td>\n",
              "      <td>13</td>\n",
              "      <td>Exec-managerial</td>\n",
              "      <td>Male</td>\n",
              "      <td>13</td>\n",
              "      <td>&lt;=50K</td>\n",
              "    </tr>\n",
              "    <tr>\n",
              "      <th>2</th>\n",
              "      <td>38</td>\n",
              "      <td>Private</td>\n",
              "      <td>9</td>\n",
              "      <td>Handlers-cleaners</td>\n",
              "      <td>Male</td>\n",
              "      <td>40</td>\n",
              "      <td>&lt;=50K</td>\n",
              "    </tr>\n",
              "    <tr>\n",
              "      <th>3</th>\n",
              "      <td>53</td>\n",
              "      <td>Private</td>\n",
              "      <td>7</td>\n",
              "      <td>Handlers-cleaners</td>\n",
              "      <td>Male</td>\n",
              "      <td>40</td>\n",
              "      <td>&lt;=50K</td>\n",
              "    </tr>\n",
              "    <tr>\n",
              "      <th>4</th>\n",
              "      <td>28</td>\n",
              "      <td>Private</td>\n",
              "      <td>13</td>\n",
              "      <td>Prof-specialty</td>\n",
              "      <td>Female</td>\n",
              "      <td>40</td>\n",
              "      <td>&lt;=50K</td>\n",
              "    </tr>\n",
              "  </tbody>\n",
              "</table>\n",
              "</div>\n",
              "      <button class=\"colab-df-convert\" onclick=\"convertToInteractive('df-29f07cd0-dcfc-44d6-acc9-3e994798eba0')\"\n",
              "              title=\"Convert this dataframe to an interactive table.\"\n",
              "              style=\"display:none;\">\n",
              "        \n",
              "  <svg xmlns=\"http://www.w3.org/2000/svg\" height=\"24px\"viewBox=\"0 0 24 24\"\n",
              "       width=\"24px\">\n",
              "    <path d=\"M0 0h24v24H0V0z\" fill=\"none\"/>\n",
              "    <path d=\"M18.56 5.44l.94 2.06.94-2.06 2.06-.94-2.06-.94-.94-2.06-.94 2.06-2.06.94zm-11 1L8.5 8.5l.94-2.06 2.06-.94-2.06-.94L8.5 2.5l-.94 2.06-2.06.94zm10 10l.94 2.06.94-2.06 2.06-.94-2.06-.94-.94-2.06-.94 2.06-2.06.94z\"/><path d=\"M17.41 7.96l-1.37-1.37c-.4-.4-.92-.59-1.43-.59-.52 0-1.04.2-1.43.59L10.3 9.45l-7.72 7.72c-.78.78-.78 2.05 0 2.83L4 21.41c.39.39.9.59 1.41.59.51 0 1.02-.2 1.41-.59l7.78-7.78 2.81-2.81c.8-.78.8-2.07 0-2.86zM5.41 20L4 18.59l7.72-7.72 1.47 1.35L5.41 20z\"/>\n",
              "  </svg>\n",
              "      </button>\n",
              "      \n",
              "  <style>\n",
              "    .colab-df-container {\n",
              "      display:flex;\n",
              "      flex-wrap:wrap;\n",
              "      gap: 12px;\n",
              "    }\n",
              "\n",
              "    .colab-df-convert {\n",
              "      background-color: #E8F0FE;\n",
              "      border: none;\n",
              "      border-radius: 50%;\n",
              "      cursor: pointer;\n",
              "      display: none;\n",
              "      fill: #1967D2;\n",
              "      height: 32px;\n",
              "      padding: 0 0 0 0;\n",
              "      width: 32px;\n",
              "    }\n",
              "\n",
              "    .colab-df-convert:hover {\n",
              "      background-color: #E2EBFA;\n",
              "      box-shadow: 0px 1px 2px rgba(60, 64, 67, 0.3), 0px 1px 3px 1px rgba(60, 64, 67, 0.15);\n",
              "      fill: #174EA6;\n",
              "    }\n",
              "\n",
              "    [theme=dark] .colab-df-convert {\n",
              "      background-color: #3B4455;\n",
              "      fill: #D2E3FC;\n",
              "    }\n",
              "\n",
              "    [theme=dark] .colab-df-convert:hover {\n",
              "      background-color: #434B5C;\n",
              "      box-shadow: 0px 1px 3px 1px rgba(0, 0, 0, 0.15);\n",
              "      filter: drop-shadow(0px 1px 2px rgba(0, 0, 0, 0.3));\n",
              "      fill: #FFFFFF;\n",
              "    }\n",
              "  </style>\n",
              "\n",
              "      <script>\n",
              "        const buttonEl =\n",
              "          document.querySelector('#df-29f07cd0-dcfc-44d6-acc9-3e994798eba0 button.colab-df-convert');\n",
              "        buttonEl.style.display =\n",
              "          google.colab.kernel.accessAllowed ? 'block' : 'none';\n",
              "\n",
              "        async function convertToInteractive(key) {\n",
              "          const element = document.querySelector('#df-29f07cd0-dcfc-44d6-acc9-3e994798eba0');\n",
              "          const dataTable =\n",
              "            await google.colab.kernel.invokeFunction('convertToInteractive',\n",
              "                                                     [key], {});\n",
              "          if (!dataTable) return;\n",
              "\n",
              "          const docLinkHtml = 'Like what you see? Visit the ' +\n",
              "            '<a target=\"_blank\" href=https://colab.research.google.com/notebooks/data_table.ipynb>data table notebook</a>'\n",
              "            + ' to learn more about interactive tables.';\n",
              "          element.innerHTML = '';\n",
              "          dataTable['output_type'] = 'display_data';\n",
              "          await google.colab.output.renderOutput(dataTable, element);\n",
              "          const docLink = document.createElement('div');\n",
              "          docLink.innerHTML = docLinkHtml;\n",
              "          element.appendChild(docLink);\n",
              "        }\n",
              "      </script>\n",
              "    </div>\n",
              "  </div>\n",
              "  "
            ]
          },
          "metadata": {},
          "execution_count": 140
        }
      ],
      "source": [
        "df = df[['age', 'workclass', 'education-num', 'occupation', \n",
        "         'sex', 'hours-per-week', 'income']]\n",
        "\n",
        "df.head()"
      ]
    },
    {
      "cell_type": "markdown",
      "metadata": {
        "id": "uCvxdBLAxMb-"
      },
      "source": [
        "### Data preprocessing"
      ]
    },
    {
      "cell_type": "markdown",
      "metadata": {
        "id": "d6rtRL12xMb-"
      },
      "source": [
        "#### First step - change the labels into binary values."
      ]
    },
    {
      "cell_type": "code",
      "execution_count": null,
      "metadata": {
        "id": "ICxI3JKbxMb_",
        "colab": {
          "base_uri": "https://localhost:8080/",
          "height": 415
        },
        "outputId": "67a230a1-cdab-47d0-af5f-1330ddc13bba"
      },
      "outputs": [
        {
          "output_type": "stream",
          "name": "stdout",
          "text": [
            "0    24720\n",
            "1     7841\n",
            "Name: income, dtype: int64\n"
          ]
        },
        {
          "output_type": "execute_result",
          "data": {
            "text/plain": [
              "   age         workclass  education-num         occupation     sex  \\\n",
              "0   39         State-gov             13       Adm-clerical    Male   \n",
              "1   50  Self-emp-not-inc             13    Exec-managerial    Male   \n",
              "2   38           Private              9  Handlers-cleaners    Male   \n",
              "3   53           Private              7  Handlers-cleaners    Male   \n",
              "4   28           Private             13     Prof-specialty  Female   \n",
              "5   37           Private             14    Exec-managerial  Female   \n",
              "6   49           Private              5      Other-service  Female   \n",
              "7   52  Self-emp-not-inc              9    Exec-managerial    Male   \n",
              "8   31           Private             14     Prof-specialty  Female   \n",
              "9   42           Private             13    Exec-managerial    Male   \n",
              "\n",
              "   hours-per-week  income  \n",
              "0              40       0  \n",
              "1              13       0  \n",
              "2              40       0  \n",
              "3              40       0  \n",
              "4              40       0  \n",
              "5              40       0  \n",
              "6              16       0  \n",
              "7              45       1  \n",
              "8              50       1  \n",
              "9              40       1  "
            ],
            "text/html": [
              "\n",
              "  <div id=\"df-965ca02b-998d-4e29-9254-4ce5e63d5fb2\">\n",
              "    <div class=\"colab-df-container\">\n",
              "      <div>\n",
              "<style scoped>\n",
              "    .dataframe tbody tr th:only-of-type {\n",
              "        vertical-align: middle;\n",
              "    }\n",
              "\n",
              "    .dataframe tbody tr th {\n",
              "        vertical-align: top;\n",
              "    }\n",
              "\n",
              "    .dataframe thead th {\n",
              "        text-align: right;\n",
              "    }\n",
              "</style>\n",
              "<table border=\"1\" class=\"dataframe\">\n",
              "  <thead>\n",
              "    <tr style=\"text-align: right;\">\n",
              "      <th></th>\n",
              "      <th>age</th>\n",
              "      <th>workclass</th>\n",
              "      <th>education-num</th>\n",
              "      <th>occupation</th>\n",
              "      <th>sex</th>\n",
              "      <th>hours-per-week</th>\n",
              "      <th>income</th>\n",
              "    </tr>\n",
              "  </thead>\n",
              "  <tbody>\n",
              "    <tr>\n",
              "      <th>0</th>\n",
              "      <td>39</td>\n",
              "      <td>State-gov</td>\n",
              "      <td>13</td>\n",
              "      <td>Adm-clerical</td>\n",
              "      <td>Male</td>\n",
              "      <td>40</td>\n",
              "      <td>0</td>\n",
              "    </tr>\n",
              "    <tr>\n",
              "      <th>1</th>\n",
              "      <td>50</td>\n",
              "      <td>Self-emp-not-inc</td>\n",
              "      <td>13</td>\n",
              "      <td>Exec-managerial</td>\n",
              "      <td>Male</td>\n",
              "      <td>13</td>\n",
              "      <td>0</td>\n",
              "    </tr>\n",
              "    <tr>\n",
              "      <th>2</th>\n",
              "      <td>38</td>\n",
              "      <td>Private</td>\n",
              "      <td>9</td>\n",
              "      <td>Handlers-cleaners</td>\n",
              "      <td>Male</td>\n",
              "      <td>40</td>\n",
              "      <td>0</td>\n",
              "    </tr>\n",
              "    <tr>\n",
              "      <th>3</th>\n",
              "      <td>53</td>\n",
              "      <td>Private</td>\n",
              "      <td>7</td>\n",
              "      <td>Handlers-cleaners</td>\n",
              "      <td>Male</td>\n",
              "      <td>40</td>\n",
              "      <td>0</td>\n",
              "    </tr>\n",
              "    <tr>\n",
              "      <th>4</th>\n",
              "      <td>28</td>\n",
              "      <td>Private</td>\n",
              "      <td>13</td>\n",
              "      <td>Prof-specialty</td>\n",
              "      <td>Female</td>\n",
              "      <td>40</td>\n",
              "      <td>0</td>\n",
              "    </tr>\n",
              "    <tr>\n",
              "      <th>5</th>\n",
              "      <td>37</td>\n",
              "      <td>Private</td>\n",
              "      <td>14</td>\n",
              "      <td>Exec-managerial</td>\n",
              "      <td>Female</td>\n",
              "      <td>40</td>\n",
              "      <td>0</td>\n",
              "    </tr>\n",
              "    <tr>\n",
              "      <th>6</th>\n",
              "      <td>49</td>\n",
              "      <td>Private</td>\n",
              "      <td>5</td>\n",
              "      <td>Other-service</td>\n",
              "      <td>Female</td>\n",
              "      <td>16</td>\n",
              "      <td>0</td>\n",
              "    </tr>\n",
              "    <tr>\n",
              "      <th>7</th>\n",
              "      <td>52</td>\n",
              "      <td>Self-emp-not-inc</td>\n",
              "      <td>9</td>\n",
              "      <td>Exec-managerial</td>\n",
              "      <td>Male</td>\n",
              "      <td>45</td>\n",
              "      <td>1</td>\n",
              "    </tr>\n",
              "    <tr>\n",
              "      <th>8</th>\n",
              "      <td>31</td>\n",
              "      <td>Private</td>\n",
              "      <td>14</td>\n",
              "      <td>Prof-specialty</td>\n",
              "      <td>Female</td>\n",
              "      <td>50</td>\n",
              "      <td>1</td>\n",
              "    </tr>\n",
              "    <tr>\n",
              "      <th>9</th>\n",
              "      <td>42</td>\n",
              "      <td>Private</td>\n",
              "      <td>13</td>\n",
              "      <td>Exec-managerial</td>\n",
              "      <td>Male</td>\n",
              "      <td>40</td>\n",
              "      <td>1</td>\n",
              "    </tr>\n",
              "  </tbody>\n",
              "</table>\n",
              "</div>\n",
              "      <button class=\"colab-df-convert\" onclick=\"convertToInteractive('df-965ca02b-998d-4e29-9254-4ce5e63d5fb2')\"\n",
              "              title=\"Convert this dataframe to an interactive table.\"\n",
              "              style=\"display:none;\">\n",
              "        \n",
              "  <svg xmlns=\"http://www.w3.org/2000/svg\" height=\"24px\"viewBox=\"0 0 24 24\"\n",
              "       width=\"24px\">\n",
              "    <path d=\"M0 0h24v24H0V0z\" fill=\"none\"/>\n",
              "    <path d=\"M18.56 5.44l.94 2.06.94-2.06 2.06-.94-2.06-.94-.94-2.06-.94 2.06-2.06.94zm-11 1L8.5 8.5l.94-2.06 2.06-.94-2.06-.94L8.5 2.5l-.94 2.06-2.06.94zm10 10l.94 2.06.94-2.06 2.06-.94-2.06-.94-.94-2.06-.94 2.06-2.06.94z\"/><path d=\"M17.41 7.96l-1.37-1.37c-.4-.4-.92-.59-1.43-.59-.52 0-1.04.2-1.43.59L10.3 9.45l-7.72 7.72c-.78.78-.78 2.05 0 2.83L4 21.41c.39.39.9.59 1.41.59.51 0 1.02-.2 1.41-.59l7.78-7.78 2.81-2.81c.8-.78.8-2.07 0-2.86zM5.41 20L4 18.59l7.72-7.72 1.47 1.35L5.41 20z\"/>\n",
              "  </svg>\n",
              "      </button>\n",
              "      \n",
              "  <style>\n",
              "    .colab-df-container {\n",
              "      display:flex;\n",
              "      flex-wrap:wrap;\n",
              "      gap: 12px;\n",
              "    }\n",
              "\n",
              "    .colab-df-convert {\n",
              "      background-color: #E8F0FE;\n",
              "      border: none;\n",
              "      border-radius: 50%;\n",
              "      cursor: pointer;\n",
              "      display: none;\n",
              "      fill: #1967D2;\n",
              "      height: 32px;\n",
              "      padding: 0 0 0 0;\n",
              "      width: 32px;\n",
              "    }\n",
              "\n",
              "    .colab-df-convert:hover {\n",
              "      background-color: #E2EBFA;\n",
              "      box-shadow: 0px 1px 2px rgba(60, 64, 67, 0.3), 0px 1px 3px 1px rgba(60, 64, 67, 0.15);\n",
              "      fill: #174EA6;\n",
              "    }\n",
              "\n",
              "    [theme=dark] .colab-df-convert {\n",
              "      background-color: #3B4455;\n",
              "      fill: #D2E3FC;\n",
              "    }\n",
              "\n",
              "    [theme=dark] .colab-df-convert:hover {\n",
              "      background-color: #434B5C;\n",
              "      box-shadow: 0px 1px 3px 1px rgba(0, 0, 0, 0.15);\n",
              "      filter: drop-shadow(0px 1px 2px rgba(0, 0, 0, 0.3));\n",
              "      fill: #FFFFFF;\n",
              "    }\n",
              "  </style>\n",
              "\n",
              "      <script>\n",
              "        const buttonEl =\n",
              "          document.querySelector('#df-965ca02b-998d-4e29-9254-4ce5e63d5fb2 button.colab-df-convert');\n",
              "        buttonEl.style.display =\n",
              "          google.colab.kernel.accessAllowed ? 'block' : 'none';\n",
              "\n",
              "        async function convertToInteractive(key) {\n",
              "          const element = document.querySelector('#df-965ca02b-998d-4e29-9254-4ce5e63d5fb2');\n",
              "          const dataTable =\n",
              "            await google.colab.kernel.invokeFunction('convertToInteractive',\n",
              "                                                     [key], {});\n",
              "          if (!dataTable) return;\n",
              "\n",
              "          const docLinkHtml = 'Like what you see? Visit the ' +\n",
              "            '<a target=\"_blank\" href=https://colab.research.google.com/notebooks/data_table.ipynb>data table notebook</a>'\n",
              "            + ' to learn more about interactive tables.';\n",
              "          element.innerHTML = '';\n",
              "          dataTable['output_type'] = 'display_data';\n",
              "          await google.colab.output.renderOutput(dataTable, element);\n",
              "          const docLink = document.createElement('div');\n",
              "          docLink.innerHTML = docLinkHtml;\n",
              "          element.appendChild(docLink);\n",
              "        }\n",
              "      </script>\n",
              "    </div>\n",
              "  </div>\n",
              "  "
            ]
          },
          "metadata": {},
          "execution_count": 141
        }
      ],
      "source": [
        "df.income=(df.income=='>50K').astype(int)\n",
        "print(df.income.value_counts())\n",
        "df.head(10)"
      ]
    },
    {
      "cell_type": "markdown",
      "metadata": {
        "id": "RmNfqdrSxMb_"
      },
      "source": [
        "#### Second step - change the `sex` column into binary values"
      ]
    },
    {
      "cell_type": "code",
      "execution_count": null,
      "metadata": {
        "id": "OBnsRiluxMb_",
        "colab": {
          "base_uri": "https://localhost:8080/",
          "height": 206
        },
        "outputId": "b545f57f-145f-423f-8283-dedf4e734869"
      },
      "outputs": [
        {
          "output_type": "execute_result",
          "data": {
            "text/plain": [
              "   age         workclass  education-num         occupation  hours-per-week  \\\n",
              "0   39         State-gov             13       Adm-clerical              40   \n",
              "1   50  Self-emp-not-inc             13    Exec-managerial              13   \n",
              "2   38           Private              9  Handlers-cleaners              40   \n",
              "3   53           Private              7  Handlers-cleaners              40   \n",
              "4   28           Private             13     Prof-specialty              40   \n",
              "\n",
              "   income  sex_Male  \n",
              "0       0         1  \n",
              "1       0         1  \n",
              "2       0         1  \n",
              "3       0         1  \n",
              "4       0         0  "
            ],
            "text/html": [
              "\n",
              "  <div id=\"df-2186e94a-a32f-4cfe-ad11-c5677f5fc748\">\n",
              "    <div class=\"colab-df-container\">\n",
              "      <div>\n",
              "<style scoped>\n",
              "    .dataframe tbody tr th:only-of-type {\n",
              "        vertical-align: middle;\n",
              "    }\n",
              "\n",
              "    .dataframe tbody tr th {\n",
              "        vertical-align: top;\n",
              "    }\n",
              "\n",
              "    .dataframe thead th {\n",
              "        text-align: right;\n",
              "    }\n",
              "</style>\n",
              "<table border=\"1\" class=\"dataframe\">\n",
              "  <thead>\n",
              "    <tr style=\"text-align: right;\">\n",
              "      <th></th>\n",
              "      <th>age</th>\n",
              "      <th>workclass</th>\n",
              "      <th>education-num</th>\n",
              "      <th>occupation</th>\n",
              "      <th>hours-per-week</th>\n",
              "      <th>income</th>\n",
              "      <th>sex_Male</th>\n",
              "    </tr>\n",
              "  </thead>\n",
              "  <tbody>\n",
              "    <tr>\n",
              "      <th>0</th>\n",
              "      <td>39</td>\n",
              "      <td>State-gov</td>\n",
              "      <td>13</td>\n",
              "      <td>Adm-clerical</td>\n",
              "      <td>40</td>\n",
              "      <td>0</td>\n",
              "      <td>1</td>\n",
              "    </tr>\n",
              "    <tr>\n",
              "      <th>1</th>\n",
              "      <td>50</td>\n",
              "      <td>Self-emp-not-inc</td>\n",
              "      <td>13</td>\n",
              "      <td>Exec-managerial</td>\n",
              "      <td>13</td>\n",
              "      <td>0</td>\n",
              "      <td>1</td>\n",
              "    </tr>\n",
              "    <tr>\n",
              "      <th>2</th>\n",
              "      <td>38</td>\n",
              "      <td>Private</td>\n",
              "      <td>9</td>\n",
              "      <td>Handlers-cleaners</td>\n",
              "      <td>40</td>\n",
              "      <td>0</td>\n",
              "      <td>1</td>\n",
              "    </tr>\n",
              "    <tr>\n",
              "      <th>3</th>\n",
              "      <td>53</td>\n",
              "      <td>Private</td>\n",
              "      <td>7</td>\n",
              "      <td>Handlers-cleaners</td>\n",
              "      <td>40</td>\n",
              "      <td>0</td>\n",
              "      <td>1</td>\n",
              "    </tr>\n",
              "    <tr>\n",
              "      <th>4</th>\n",
              "      <td>28</td>\n",
              "      <td>Private</td>\n",
              "      <td>13</td>\n",
              "      <td>Prof-specialty</td>\n",
              "      <td>40</td>\n",
              "      <td>0</td>\n",
              "      <td>0</td>\n",
              "    </tr>\n",
              "  </tbody>\n",
              "</table>\n",
              "</div>\n",
              "      <button class=\"colab-df-convert\" onclick=\"convertToInteractive('df-2186e94a-a32f-4cfe-ad11-c5677f5fc748')\"\n",
              "              title=\"Convert this dataframe to an interactive table.\"\n",
              "              style=\"display:none;\">\n",
              "        \n",
              "  <svg xmlns=\"http://www.w3.org/2000/svg\" height=\"24px\"viewBox=\"0 0 24 24\"\n",
              "       width=\"24px\">\n",
              "    <path d=\"M0 0h24v24H0V0z\" fill=\"none\"/>\n",
              "    <path d=\"M18.56 5.44l.94 2.06.94-2.06 2.06-.94-2.06-.94-.94-2.06-.94 2.06-2.06.94zm-11 1L8.5 8.5l.94-2.06 2.06-.94-2.06-.94L8.5 2.5l-.94 2.06-2.06.94zm10 10l.94 2.06.94-2.06 2.06-.94-2.06-.94-.94-2.06-.94 2.06-2.06.94z\"/><path d=\"M17.41 7.96l-1.37-1.37c-.4-.4-.92-.59-1.43-.59-.52 0-1.04.2-1.43.59L10.3 9.45l-7.72 7.72c-.78.78-.78 2.05 0 2.83L4 21.41c.39.39.9.59 1.41.59.51 0 1.02-.2 1.41-.59l7.78-7.78 2.81-2.81c.8-.78.8-2.07 0-2.86zM5.41 20L4 18.59l7.72-7.72 1.47 1.35L5.41 20z\"/>\n",
              "  </svg>\n",
              "      </button>\n",
              "      \n",
              "  <style>\n",
              "    .colab-df-container {\n",
              "      display:flex;\n",
              "      flex-wrap:wrap;\n",
              "      gap: 12px;\n",
              "    }\n",
              "\n",
              "    .colab-df-convert {\n",
              "      background-color: #E8F0FE;\n",
              "      border: none;\n",
              "      border-radius: 50%;\n",
              "      cursor: pointer;\n",
              "      display: none;\n",
              "      fill: #1967D2;\n",
              "      height: 32px;\n",
              "      padding: 0 0 0 0;\n",
              "      width: 32px;\n",
              "    }\n",
              "\n",
              "    .colab-df-convert:hover {\n",
              "      background-color: #E2EBFA;\n",
              "      box-shadow: 0px 1px 2px rgba(60, 64, 67, 0.3), 0px 1px 3px 1px rgba(60, 64, 67, 0.15);\n",
              "      fill: #174EA6;\n",
              "    }\n",
              "\n",
              "    [theme=dark] .colab-df-convert {\n",
              "      background-color: #3B4455;\n",
              "      fill: #D2E3FC;\n",
              "    }\n",
              "\n",
              "    [theme=dark] .colab-df-convert:hover {\n",
              "      background-color: #434B5C;\n",
              "      box-shadow: 0px 1px 3px 1px rgba(0, 0, 0, 0.15);\n",
              "      filter: drop-shadow(0px 1px 2px rgba(0, 0, 0, 0.3));\n",
              "      fill: #FFFFFF;\n",
              "    }\n",
              "  </style>\n",
              "\n",
              "      <script>\n",
              "        const buttonEl =\n",
              "          document.querySelector('#df-2186e94a-a32f-4cfe-ad11-c5677f5fc748 button.colab-df-convert');\n",
              "        buttonEl.style.display =\n",
              "          google.colab.kernel.accessAllowed ? 'block' : 'none';\n",
              "\n",
              "        async function convertToInteractive(key) {\n",
              "          const element = document.querySelector('#df-2186e94a-a32f-4cfe-ad11-c5677f5fc748');\n",
              "          const dataTable =\n",
              "            await google.colab.kernel.invokeFunction('convertToInteractive',\n",
              "                                                     [key], {});\n",
              "          if (!dataTable) return;\n",
              "\n",
              "          const docLinkHtml = 'Like what you see? Visit the ' +\n",
              "            '<a target=\"_blank\" href=https://colab.research.google.com/notebooks/data_table.ipynb>data table notebook</a>'\n",
              "            + ' to learn more about interactive tables.';\n",
              "          element.innerHTML = '';\n",
              "          dataTable['output_type'] = 'display_data';\n",
              "          await google.colab.output.renderOutput(dataTable, element);\n",
              "          const docLink = document.createElement('div');\n",
              "          docLink.innerHTML = docLinkHtml;\n",
              "          element.appendChild(docLink);\n",
              "        }\n",
              "      </script>\n",
              "    </div>\n",
              "  </div>\n",
              "  "
            ]
          },
          "metadata": {},
          "execution_count": 142
        }
      ],
      "source": [
        "df=pd.get_dummies(df,columns=['sex'],drop_first=True)\n",
        "df.head()"
      ]
    },
    {
      "cell_type": "markdown",
      "metadata": {
        "id": "3dK-nvFMxMb_"
      },
      "source": [
        "#### Third step - replace rare classes"
      ]
    },
    {
      "cell_type": "markdown",
      "metadata": {
        "id": "FYYySKPkxMcA"
      },
      "source": [
        "Let's check if we have any rare classes"
      ]
    },
    {
      "cell_type": "code",
      "execution_count": null,
      "metadata": {
        "id": "pP-52ikqxMcA",
        "colab": {
          "base_uri": "https://localhost:8080/"
        },
        "outputId": "6cce9479-45d0-4ffe-e72d-8b71d7c3d539"
      },
      "outputs": [
        {
          "output_type": "execute_result",
          "data": {
            "text/plain": [
              "Private             22696\n",
              "Self-emp-not-inc     2541\n",
              "Local-gov            2093\n",
              "?                    1836\n",
              "State-gov            1298\n",
              "Self-emp-inc         1116\n",
              "Federal-gov           960\n",
              "Without-pay            14\n",
              "Never-worked            7\n",
              "Name: workclass, dtype: int64"
            ]
          },
          "metadata": {},
          "execution_count": 143
        }
      ],
      "source": [
        "df.workclass.value_counts()"
      ]
    },
    {
      "cell_type": "code",
      "execution_count": null,
      "metadata": {
        "id": "1Q3e8l9bxMcA",
        "colab": {
          "base_uri": "https://localhost:8080/"
        },
        "outputId": "35c7578b-95bc-4420-ffbe-bd1913e27ced"
      },
      "outputs": [
        {
          "output_type": "execute_result",
          "data": {
            "text/plain": [
              "Prof-specialty       4140\n",
              "Craft-repair         4099\n",
              "Exec-managerial      4066\n",
              "Adm-clerical         3770\n",
              "Sales                3650\n",
              "Other-service        3295\n",
              "Machine-op-inspct    2002\n",
              "?                    1843\n",
              "Transport-moving     1597\n",
              "Handlers-cleaners    1370\n",
              "Farming-fishing       994\n",
              "Tech-support          928\n",
              "Protective-serv       649\n",
              "Priv-house-serv       149\n",
              "Armed-Forces            9\n",
              "Name: occupation, dtype: int64"
            ]
          },
          "metadata": {},
          "execution_count": 144
        }
      ],
      "source": [
        "df.occupation.value_counts()"
      ]
    },
    {
      "cell_type": "markdown",
      "metadata": {
        "id": "CH2wa9TpxMcB"
      },
      "source": [
        "Then we should replace rare classes for one-hot encoded columns"
      ]
    },
    {
      "cell_type": "code",
      "execution_count": null,
      "metadata": {
        "id": "I49w1y-KxMcB",
        "colab": {
          "base_uri": "https://localhost:8080/"
        },
        "outputId": "883e03cf-f71a-4997-8f5d-7eac192d3d3f"
      },
      "outputs": [
        {
          "output_type": "execute_result",
          "data": {
            "text/plain": [
              "Private             22696\n",
              "Self-emp-not-inc     2541\n",
              "Local-gov            2093\n",
              "?                    1857\n",
              "State-gov            1298\n",
              "Self-emp-inc         1116\n",
              "Federal-gov           960\n",
              "Name: workclass, dtype: int64"
            ]
          },
          "metadata": {},
          "execution_count": 145
        }
      ],
      "source": [
        "df.loc[df.workclass.isin(['Without-pay','Never-worked']),'workclass']='?'\n",
        "df.workclass.value_counts()"
      ]
    },
    {
      "cell_type": "code",
      "execution_count": null,
      "metadata": {
        "id": "g69BwUrNxMcB",
        "colab": {
          "base_uri": "https://localhost:8080/"
        },
        "outputId": "efd77fa7-bb6e-43bc-e15f-c29482e43521"
      },
      "outputs": [
        {
          "output_type": "execute_result",
          "data": {
            "text/plain": [
              "Prof-specialty       4140\n",
              "Craft-repair         4099\n",
              "Exec-managerial      4066\n",
              "Adm-clerical         3770\n",
              "Sales                3650\n",
              "Other-service        3295\n",
              "?                    2650\n",
              "Machine-op-inspct    2002\n",
              "Transport-moving     1597\n",
              "Handlers-cleaners    1370\n",
              "Farming-fishing       994\n",
              "Tech-support          928\n",
              "Name: occupation, dtype: int64"
            ]
          },
          "metadata": {},
          "execution_count": 146
        }
      ],
      "source": [
        "df.loc[df.occupation.isin(['Protective-serv','Priv-house-serv','Armed-Forces']),'occupation']=\"?\"\n",
        "df.occupation.value_counts()"
      ]
    },
    {
      "cell_type": "markdown",
      "metadata": {
        "id": "szC_-R46xMcC"
      },
      "source": [
        "#### Final step - one hot encoding"
      ]
    },
    {
      "cell_type": "code",
      "execution_count": null,
      "metadata": {
        "id": "wl4xVAaNxMcC",
        "colab": {
          "base_uri": "https://localhost:8080/",
          "height": 542
        },
        "outputId": "e9219c55-791d-496f-c865-ba33a2b4bf00"
      },
      "outputs": [
        {
          "output_type": "stream",
          "name": "stdout",
          "text": [
            "(32561, 24)\n",
            "Index(['age', 'education-num', 'hours-per-week', 'income', 'sex_Male',\n",
            "       'workclass_?', 'workclass_Federal-gov', 'workclass_Local-gov',\n",
            "       'workclass_Private', 'workclass_Self-emp-inc',\n",
            "       'workclass_Self-emp-not-inc', 'workclass_State-gov', 'occupation_?',\n",
            "       'occupation_Adm-clerical', 'occupation_Craft-repair',\n",
            "       'occupation_Exec-managerial', 'occupation_Farming-fishing',\n",
            "       'occupation_Handlers-cleaners', 'occupation_Machine-op-inspct',\n",
            "       'occupation_Other-service', 'occupation_Prof-specialty',\n",
            "       'occupation_Sales', 'occupation_Tech-support',\n",
            "       'occupation_Transport-moving'],\n",
            "      dtype='object')\n"
          ]
        },
        {
          "output_type": "execute_result",
          "data": {
            "text/plain": [
              "   age  education-num  hours-per-week  income  sex_Male  workclass_?  \\\n",
              "0   39             13              40       0         1            0   \n",
              "1   50             13              13       0         1            0   \n",
              "2   38              9              40       0         1            0   \n",
              "3   53              7              40       0         1            0   \n",
              "4   28             13              40       0         0            0   \n",
              "\n",
              "   workclass_Federal-gov  workclass_Local-gov  workclass_Private  \\\n",
              "0                      0                    0                  0   \n",
              "1                      0                    0                  0   \n",
              "2                      0                    0                  1   \n",
              "3                      0                    0                  1   \n",
              "4                      0                    0                  1   \n",
              "\n",
              "   workclass_Self-emp-inc  ...  occupation_Craft-repair  \\\n",
              "0                       0  ...                        0   \n",
              "1                       0  ...                        0   \n",
              "2                       0  ...                        0   \n",
              "3                       0  ...                        0   \n",
              "4                       0  ...                        0   \n",
              "\n",
              "   occupation_Exec-managerial  occupation_Farming-fishing  \\\n",
              "0                           0                           0   \n",
              "1                           1                           0   \n",
              "2                           0                           0   \n",
              "3                           0                           0   \n",
              "4                           0                           0   \n",
              "\n",
              "   occupation_Handlers-cleaners  occupation_Machine-op-inspct  \\\n",
              "0                             0                             0   \n",
              "1                             0                             0   \n",
              "2                             1                             0   \n",
              "3                             1                             0   \n",
              "4                             0                             0   \n",
              "\n",
              "   occupation_Other-service  occupation_Prof-specialty  occupation_Sales  \\\n",
              "0                         0                          0                 0   \n",
              "1                         0                          0                 0   \n",
              "2                         0                          0                 0   \n",
              "3                         0                          0                 0   \n",
              "4                         0                          1                 0   \n",
              "\n",
              "   occupation_Tech-support  occupation_Transport-moving  \n",
              "0                        0                            0  \n",
              "1                        0                            0  \n",
              "2                        0                            0  \n",
              "3                        0                            0  \n",
              "4                        0                            0  \n",
              "\n",
              "[5 rows x 24 columns]"
            ],
            "text/html": [
              "\n",
              "  <div id=\"df-8a5862ee-ad3b-4983-87d2-8fcae0c798e7\">\n",
              "    <div class=\"colab-df-container\">\n",
              "      <div>\n",
              "<style scoped>\n",
              "    .dataframe tbody tr th:only-of-type {\n",
              "        vertical-align: middle;\n",
              "    }\n",
              "\n",
              "    .dataframe tbody tr th {\n",
              "        vertical-align: top;\n",
              "    }\n",
              "\n",
              "    .dataframe thead th {\n",
              "        text-align: right;\n",
              "    }\n",
              "</style>\n",
              "<table border=\"1\" class=\"dataframe\">\n",
              "  <thead>\n",
              "    <tr style=\"text-align: right;\">\n",
              "      <th></th>\n",
              "      <th>age</th>\n",
              "      <th>education-num</th>\n",
              "      <th>hours-per-week</th>\n",
              "      <th>income</th>\n",
              "      <th>sex_Male</th>\n",
              "      <th>workclass_?</th>\n",
              "      <th>workclass_Federal-gov</th>\n",
              "      <th>workclass_Local-gov</th>\n",
              "      <th>workclass_Private</th>\n",
              "      <th>workclass_Self-emp-inc</th>\n",
              "      <th>...</th>\n",
              "      <th>occupation_Craft-repair</th>\n",
              "      <th>occupation_Exec-managerial</th>\n",
              "      <th>occupation_Farming-fishing</th>\n",
              "      <th>occupation_Handlers-cleaners</th>\n",
              "      <th>occupation_Machine-op-inspct</th>\n",
              "      <th>occupation_Other-service</th>\n",
              "      <th>occupation_Prof-specialty</th>\n",
              "      <th>occupation_Sales</th>\n",
              "      <th>occupation_Tech-support</th>\n",
              "      <th>occupation_Transport-moving</th>\n",
              "    </tr>\n",
              "  </thead>\n",
              "  <tbody>\n",
              "    <tr>\n",
              "      <th>0</th>\n",
              "      <td>39</td>\n",
              "      <td>13</td>\n",
              "      <td>40</td>\n",
              "      <td>0</td>\n",
              "      <td>1</td>\n",
              "      <td>0</td>\n",
              "      <td>0</td>\n",
              "      <td>0</td>\n",
              "      <td>0</td>\n",
              "      <td>0</td>\n",
              "      <td>...</td>\n",
              "      <td>0</td>\n",
              "      <td>0</td>\n",
              "      <td>0</td>\n",
              "      <td>0</td>\n",
              "      <td>0</td>\n",
              "      <td>0</td>\n",
              "      <td>0</td>\n",
              "      <td>0</td>\n",
              "      <td>0</td>\n",
              "      <td>0</td>\n",
              "    </tr>\n",
              "    <tr>\n",
              "      <th>1</th>\n",
              "      <td>50</td>\n",
              "      <td>13</td>\n",
              "      <td>13</td>\n",
              "      <td>0</td>\n",
              "      <td>1</td>\n",
              "      <td>0</td>\n",
              "      <td>0</td>\n",
              "      <td>0</td>\n",
              "      <td>0</td>\n",
              "      <td>0</td>\n",
              "      <td>...</td>\n",
              "      <td>0</td>\n",
              "      <td>1</td>\n",
              "      <td>0</td>\n",
              "      <td>0</td>\n",
              "      <td>0</td>\n",
              "      <td>0</td>\n",
              "      <td>0</td>\n",
              "      <td>0</td>\n",
              "      <td>0</td>\n",
              "      <td>0</td>\n",
              "    </tr>\n",
              "    <tr>\n",
              "      <th>2</th>\n",
              "      <td>38</td>\n",
              "      <td>9</td>\n",
              "      <td>40</td>\n",
              "      <td>0</td>\n",
              "      <td>1</td>\n",
              "      <td>0</td>\n",
              "      <td>0</td>\n",
              "      <td>0</td>\n",
              "      <td>1</td>\n",
              "      <td>0</td>\n",
              "      <td>...</td>\n",
              "      <td>0</td>\n",
              "      <td>0</td>\n",
              "      <td>0</td>\n",
              "      <td>1</td>\n",
              "      <td>0</td>\n",
              "      <td>0</td>\n",
              "      <td>0</td>\n",
              "      <td>0</td>\n",
              "      <td>0</td>\n",
              "      <td>0</td>\n",
              "    </tr>\n",
              "    <tr>\n",
              "      <th>3</th>\n",
              "      <td>53</td>\n",
              "      <td>7</td>\n",
              "      <td>40</td>\n",
              "      <td>0</td>\n",
              "      <td>1</td>\n",
              "      <td>0</td>\n",
              "      <td>0</td>\n",
              "      <td>0</td>\n",
              "      <td>1</td>\n",
              "      <td>0</td>\n",
              "      <td>...</td>\n",
              "      <td>0</td>\n",
              "      <td>0</td>\n",
              "      <td>0</td>\n",
              "      <td>1</td>\n",
              "      <td>0</td>\n",
              "      <td>0</td>\n",
              "      <td>0</td>\n",
              "      <td>0</td>\n",
              "      <td>0</td>\n",
              "      <td>0</td>\n",
              "    </tr>\n",
              "    <tr>\n",
              "      <th>4</th>\n",
              "      <td>28</td>\n",
              "      <td>13</td>\n",
              "      <td>40</td>\n",
              "      <td>0</td>\n",
              "      <td>0</td>\n",
              "      <td>0</td>\n",
              "      <td>0</td>\n",
              "      <td>0</td>\n",
              "      <td>1</td>\n",
              "      <td>0</td>\n",
              "      <td>...</td>\n",
              "      <td>0</td>\n",
              "      <td>0</td>\n",
              "      <td>0</td>\n",
              "      <td>0</td>\n",
              "      <td>0</td>\n",
              "      <td>0</td>\n",
              "      <td>1</td>\n",
              "      <td>0</td>\n",
              "      <td>0</td>\n",
              "      <td>0</td>\n",
              "    </tr>\n",
              "  </tbody>\n",
              "</table>\n",
              "<p>5 rows × 24 columns</p>\n",
              "</div>\n",
              "      <button class=\"colab-df-convert\" onclick=\"convertToInteractive('df-8a5862ee-ad3b-4983-87d2-8fcae0c798e7')\"\n",
              "              title=\"Convert this dataframe to an interactive table.\"\n",
              "              style=\"display:none;\">\n",
              "        \n",
              "  <svg xmlns=\"http://www.w3.org/2000/svg\" height=\"24px\"viewBox=\"0 0 24 24\"\n",
              "       width=\"24px\">\n",
              "    <path d=\"M0 0h24v24H0V0z\" fill=\"none\"/>\n",
              "    <path d=\"M18.56 5.44l.94 2.06.94-2.06 2.06-.94-2.06-.94-.94-2.06-.94 2.06-2.06.94zm-11 1L8.5 8.5l.94-2.06 2.06-.94-2.06-.94L8.5 2.5l-.94 2.06-2.06.94zm10 10l.94 2.06.94-2.06 2.06-.94-2.06-.94-.94-2.06-.94 2.06-2.06.94z\"/><path d=\"M17.41 7.96l-1.37-1.37c-.4-.4-.92-.59-1.43-.59-.52 0-1.04.2-1.43.59L10.3 9.45l-7.72 7.72c-.78.78-.78 2.05 0 2.83L4 21.41c.39.39.9.59 1.41.59.51 0 1.02-.2 1.41-.59l7.78-7.78 2.81-2.81c.8-.78.8-2.07 0-2.86zM5.41 20L4 18.59l7.72-7.72 1.47 1.35L5.41 20z\"/>\n",
              "  </svg>\n",
              "      </button>\n",
              "      \n",
              "  <style>\n",
              "    .colab-df-container {\n",
              "      display:flex;\n",
              "      flex-wrap:wrap;\n",
              "      gap: 12px;\n",
              "    }\n",
              "\n",
              "    .colab-df-convert {\n",
              "      background-color: #E8F0FE;\n",
              "      border: none;\n",
              "      border-radius: 50%;\n",
              "      cursor: pointer;\n",
              "      display: none;\n",
              "      fill: #1967D2;\n",
              "      height: 32px;\n",
              "      padding: 0 0 0 0;\n",
              "      width: 32px;\n",
              "    }\n",
              "\n",
              "    .colab-df-convert:hover {\n",
              "      background-color: #E2EBFA;\n",
              "      box-shadow: 0px 1px 2px rgba(60, 64, 67, 0.3), 0px 1px 3px 1px rgba(60, 64, 67, 0.15);\n",
              "      fill: #174EA6;\n",
              "    }\n",
              "\n",
              "    [theme=dark] .colab-df-convert {\n",
              "      background-color: #3B4455;\n",
              "      fill: #D2E3FC;\n",
              "    }\n",
              "\n",
              "    [theme=dark] .colab-df-convert:hover {\n",
              "      background-color: #434B5C;\n",
              "      box-shadow: 0px 1px 3px 1px rgba(0, 0, 0, 0.15);\n",
              "      filter: drop-shadow(0px 1px 2px rgba(0, 0, 0, 0.3));\n",
              "      fill: #FFFFFF;\n",
              "    }\n",
              "  </style>\n",
              "\n",
              "      <script>\n",
              "        const buttonEl =\n",
              "          document.querySelector('#df-8a5862ee-ad3b-4983-87d2-8fcae0c798e7 button.colab-df-convert');\n",
              "        buttonEl.style.display =\n",
              "          google.colab.kernel.accessAllowed ? 'block' : 'none';\n",
              "\n",
              "        async function convertToInteractive(key) {\n",
              "          const element = document.querySelector('#df-8a5862ee-ad3b-4983-87d2-8fcae0c798e7');\n",
              "          const dataTable =\n",
              "            await google.colab.kernel.invokeFunction('convertToInteractive',\n",
              "                                                     [key], {});\n",
              "          if (!dataTable) return;\n",
              "\n",
              "          const docLinkHtml = 'Like what you see? Visit the ' +\n",
              "            '<a target=\"_blank\" href=https://colab.research.google.com/notebooks/data_table.ipynb>data table notebook</a>'\n",
              "            + ' to learn more about interactive tables.';\n",
              "          element.innerHTML = '';\n",
              "          dataTable['output_type'] = 'display_data';\n",
              "          await google.colab.output.renderOutput(dataTable, element);\n",
              "          const docLink = document.createElement('div');\n",
              "          docLink.innerHTML = docLinkHtml;\n",
              "          element.appendChild(docLink);\n",
              "        }\n",
              "      </script>\n",
              "    </div>\n",
              "  </div>\n",
              "  "
            ]
          },
          "metadata": {},
          "execution_count": 147
        }
      ],
      "source": [
        "df=pd.get_dummies(df,columns=['workclass','occupation'])\n",
        "print(df.shape)\n",
        "print(df.columns)\n",
        "df.head()"
      ]
    },
    {
      "cell_type": "markdown",
      "metadata": {
        "id": "FpqGJJAgxMcC"
      },
      "source": [
        "## Splitting dataset"
      ]
    },
    {
      "cell_type": "markdown",
      "metadata": {
        "id": "HbrHwMxKxMcC"
      },
      "source": [
        "Let's split the dataset into features and labels first.\n",
        "- `income` is the label (`y`)\n",
        "- all other columns are features (`X`)"
      ]
    },
    {
      "cell_type": "code",
      "execution_count": null,
      "metadata": {
        "id": "Rm0GhhXRxMcC"
      },
      "outputs": [],
      "source": [
        "y=df.income\n",
        "X=df.drop('income',axis=1)"
      ]
    },
    {
      "cell_type": "markdown",
      "metadata": {
        "id": "Z1lM8QvcxMcC"
      },
      "source": [
        "### Train test split\n",
        "#### NOTE: This time we want to split the data into 3 datasets\n",
        "Split ratio: 60, 20, 20"
      ]
    },
    {
      "cell_type": "code",
      "execution_count": null,
      "metadata": {
        "id": "fkTc6O2MxMcD",
        "colab": {
          "base_uri": "https://localhost:8080/"
        },
        "outputId": "fe900601-4cf7-4a4f-e66d-c63c62f012b2"
      },
      "outputs": [
        {
          "output_type": "stream",
          "name": "stdout",
          "text": [
            "X train shape: (19536, 23)\n",
            "Y train shape: (19536,)\n",
            "X train shape: (6512, 23)\n",
            "Y train shape: (6512,)\n",
            "X train shape: (6513, 23)\n",
            "Y train shape: (6513,)\n"
          ]
        }
      ],
      "source": [
        "from sklearn.model_selection import train_test_split\n",
        "X_train,X_test,y_train,y_test=train_test_split(X,y,test_size=0.4,\n",
        "                                              stratify=y,random_state=1 )\n",
        "X_valid,X_test,y_valid,y_test=train_test_split(X_test,y_test,test_size=0.5,\n",
        "                                              stratify=y_test,random_state=1 )\n",
        "\n",
        "print(\"X train shape:\",X_train.shape)\n",
        "print(\"Y train shape:\",y_train.shape)\n",
        "\n",
        "print(\"X train shape:\",X_valid.shape)\n",
        "print(\"Y train shape:\",y_valid.shape)\n",
        "\n",
        "print(\"X train shape:\",X_test.shape)\n",
        "print(\"Y train shape:\",y_test.shape)\n"
      ]
    },
    {
      "cell_type": "markdown",
      "metadata": {
        "id": "OOTF7RLLxMcD"
      },
      "source": [
        "# Keras"
      ]
    },
    {
      "cell_type": "markdown",
      "metadata": {
        "id": "Om2of_TnxMcD"
      },
      "source": [
        "Import modules"
      ]
    },
    {
      "cell_type": "code",
      "execution_count": null,
      "metadata": {
        "id": "p1xiIVbaxMcD"
      },
      "outputs": [],
      "source": [
        "from tensorflow.keras.models import Sequential\n",
        "from tensorflow.keras.layers import Dense\n",
        "from tensorflow.keras.layers import Dropout\n",
        "\n",
        "from tensorflow.keras import optimizers"
      ]
    },
    {
      "cell_type": "markdown",
      "metadata": {
        "id": "2fgMHM1XxMcD"
      },
      "source": [
        "## Building model"
      ]
    },
    {
      "cell_type": "markdown",
      "metadata": {
        "id": "-6IphK4dxMcD"
      },
      "source": [
        "Let's define the hyperparameters first"
      ]
    },
    {
      "cell_type": "code",
      "execution_count": null,
      "metadata": {
        "id": "BCfaxHg8xMcE",
        "colab": {
          "base_uri": "https://localhost:8080/"
        },
        "outputId": "7fa1d957-9427-475f-8b50-2ea07aae746e"
      },
      "outputs": [
        {
          "output_type": "stream",
          "name": "stdout",
          "text": [
            "X_train dataset cointains 23 features (columns).\n"
          ]
        }
      ],
      "source": [
        "CELLS_1=32 #warstwy ukryte\n",
        "CELLS_2=8\n",
        "\n",
        "LEARNING_RATE=0.001\n",
        "EPOCHS=10\n",
        "BATCH_SIZE=128 #kolejne potegi 2 bo komputery licza w systemie 2 nie oplaca sie dawac 100 bo liczy mniej a robi tyle samo ile dla 128\n",
        "\n",
        "NR_INPUTS=X_train.shape[1]\n",
        "print ('X_train dataset cointains {} features (columns).'.format(NR_INPUTS))\n"
      ]
    },
    {
      "cell_type": "markdown",
      "metadata": {
        "id": "japafCWIxMcE"
      },
      "source": [
        "Now we may build the model"
      ]
    },
    {
      "cell_type": "code",
      "execution_count": null,
      "metadata": {
        "id": "Fz73klkjxMcE",
        "colab": {
          "base_uri": "https://localhost:8080/"
        },
        "outputId": "db184f41-b8b5-4293-f264-feb3348e4dde"
      },
      "outputs": [
        {
          "output_type": "stream",
          "name": "stdout",
          "text": [
            "Model: \"sequential_12\"\n",
            "_________________________________________________________________\n",
            " Layer (type)                Output Shape              Param #   \n",
            "=================================================================\n",
            " dense_36 (Dense)            (None, 32)                768       \n",
            "                                                                 \n",
            " dense_37 (Dense)            (None, 8)                 264       \n",
            "                                                                 \n",
            " dense_38 (Dense)            (None, 1)                 9         \n",
            "                                                                 \n",
            "=================================================================\n",
            "Total params: 1,041\n",
            "Trainable params: 1,041\n",
            "Non-trainable params: 0\n",
            "_________________________________________________________________\n"
          ]
        },
        {
          "output_type": "stream",
          "name": "stderr",
          "text": [
            "/usr/local/lib/python3.7/dist-packages/keras/optimizer_v2/adam.py:105: UserWarning: The `lr` argument is deprecated, use `learning_rate` instead.\n",
            "  super(Adam, self).__init__(name, **kwargs)\n"
          ]
        }
      ],
      "source": [
        "model=Sequential()\n",
        "\n",
        "model.add(Dense(CELLS_1,input_shape=[NR_INPUTS,],activation=\"relu\"))\n",
        "model.add(Dense(CELLS_2,activation=\"relu\"))\n",
        "model.add(Dense(1,activation='sigmoid'))\n",
        "\n",
        "optimizer =optimizers.Adam(lr=LEARNING_RATE)\n",
        "model.compile(loss='binary_crossentropy',optimizer=optimizer,metrics=['accuracy'])\n",
        "\n",
        "model.summary()\n",
        "#32*23+32=768\n",
        "#8*32+8=264\n",
        "#1*8+1=9\n",
        "#nie ma sensu zeby neuronow w 1 warstwie (32) bylo ponad 2 razy wiecej niz\n",
        "#liczby naszych features (23)\n",
        "#jesli mamy wiecej parametrow (1041) niz wierszy (ok 20k) w naszych zbiorze treningowym to możemy miec overfitting\n",
        "#\n"
      ]
    },
    {
      "cell_type": "code",
      "execution_count": null,
      "metadata": {
        "id": "OcZpXt7TxMcE",
        "colab": {
          "base_uri": "https://localhost:8080/"
        },
        "outputId": "01af0b69-bab3-4298-ae8b-d1f78d878336"
      },
      "outputs": [
        {
          "output_type": "stream",
          "name": "stdout",
          "text": [
            "Epoch 1/10\n",
            "153/153 [==============================] - 1s 4ms/step - loss: 0.8530 - accuracy: 0.6974 - val_loss: 0.5611 - val_accuracy: 0.7592\n",
            "Epoch 2/10\n",
            "153/153 [==============================] - 0s 3ms/step - loss: 0.5442 - accuracy: 0.7592 - val_loss: 0.5301 - val_accuracy: 0.7592\n",
            "Epoch 3/10\n",
            "153/153 [==============================] - 0s 3ms/step - loss: 0.5144 - accuracy: 0.7592 - val_loss: 0.5027 - val_accuracy: 0.7592\n",
            "Epoch 4/10\n",
            "153/153 [==============================] - 0s 3ms/step - loss: 0.4858 - accuracy: 0.7592 - val_loss: 0.4716 - val_accuracy: 0.7600\n",
            "Epoch 5/10\n",
            "153/153 [==============================] - 0s 3ms/step - loss: 0.4668 - accuracy: 0.7592 - val_loss: 0.4587 - val_accuracy: 0.7600\n",
            "Epoch 6/10\n",
            "153/153 [==============================] - 0s 3ms/step - loss: 0.4554 - accuracy: 0.7607 - val_loss: 0.4488 - val_accuracy: 0.7594\n",
            "Epoch 7/10\n",
            "153/153 [==============================] - 0s 3ms/step - loss: 0.4490 - accuracy: 0.7611 - val_loss: 0.4483 - val_accuracy: 0.7644\n",
            "Epoch 8/10\n",
            "153/153 [==============================] - 1s 4ms/step - loss: 0.4459 - accuracy: 0.7661 - val_loss: 0.4406 - val_accuracy: 0.7683\n",
            "Epoch 9/10\n",
            "153/153 [==============================] - 1s 3ms/step - loss: 0.4386 - accuracy: 0.7739 - val_loss: 0.4312 - val_accuracy: 0.7798\n",
            "Epoch 10/10\n",
            "153/153 [==============================] - 0s 3ms/step - loss: 0.4298 - accuracy: 0.7876 - val_loss: 0.4249 - val_accuracy: 0.7939\n"
          ]
        }
      ],
      "source": [
        "history=model.fit(X_train,y_train,\n",
        "                  validation_data=(X_valid,y_valid),\n",
        "                  batch_size=BATCH_SIZE,\n",
        "                  epochs=EPOCHS\n",
        ")\n"
      ]
    },
    {
      "cell_type": "markdown",
      "metadata": {
        "id": "-qIDvdJExMcE"
      },
      "source": [
        "Let's display the training history"
      ]
    },
    {
      "cell_type": "code",
      "execution_count": null,
      "metadata": {
        "id": "RTEO-f7cxMcE"
      },
      "outputs": [],
      "source": [
        "def plot_train_valid_history(history):\n",
        "    \"\"\"\n",
        "    Plots train and validation losses.\n",
        "    Arguments: history - history of training (result of keras model.fit).\n",
        "        history.history must be a dictionary that looks as follow:\n",
        "        {\n",
        "            'loss' : .....\n",
        "            'valid_loss' : .....\n",
        "            'acc' : .... # Optional\n",
        "            'val_acc' : ..... # Optional\n",
        "        }\n",
        "    \"\"\"\n",
        "    epochs = np.arange(len(history.history['val_loss'])) + 1\n",
        "    fig = plt.figure(figsize=(8, 4))\n",
        "    if 'accuracy' in history.history:\n",
        "        ax1 = fig.add_subplot(121)\n",
        "        ax1.plot(epochs, history.history['loss'], c='b', label='Train loss')\n",
        "        ax1.plot(epochs, history.history['val_loss'], c='g', label='Valid loss')\n",
        "        plt.legend(loc='lower left');\n",
        "        plt.grid(True)        \n",
        "        \n",
        "        ax1 = fig.add_subplot(122)\n",
        "        ax1.plot(epochs, history.history['accuracy'], c='b', label='Train acc')\n",
        "        ax1.plot(epochs, history.history['val_accuracy'], c='g', label='Valid acc')\n",
        "        plt.legend(loc='lower right');\n",
        "        plt.grid(True)        \n",
        "         \n",
        "        \n",
        "    else:\n",
        "        ax1 = fig.add_subplot(111)\n",
        "        ax1.plot(epochs, history.history['loss'], c='b', label='Train loss')\n",
        "        ax1.plot(epochs, history.history['val_loss'], c='g', label='Valid loss')\n",
        "        plt.legend(loc='lower left');\n",
        "        plt.grid(True)\n",
        "    plt.show()\n",
        "\n"
      ]
    },
    {
      "cell_type": "code",
      "execution_count": null,
      "metadata": {
        "id": "iaN1yiFnxMcF",
        "colab": {
          "base_uri": "https://localhost:8080/",
          "height": 265
        },
        "outputId": "a7eb8069-30e2-4b55-839b-5e68e3d4d9aa"
      },
      "outputs": [
        {
          "output_type": "display_data",
          "data": {
            "text/plain": [
              "<Figure size 576x288 with 2 Axes>"
            ],
            "image/png": "[encoded data removed]"
          },
          "metadata": {
            "needs_background": "light"
          }
        }
      ],
      "source": [
        "plot_train_valid_history(history)\n",
        "#w teorii train (na tym 2 na koncu) powinien byc troche lepszy od validation\n",
        "#tu nie sa bo zbiory nie sa wystarczajaco duze\n",
        "\n",
        "#istotne jest to czy ida w ta sama strone i czy sa do siebie zblizone\n",
        "# jesli tak jest to nie ma overfittingu\n",
        "#underfitting jesli oczekiwalismy wieksze accuracy\n",
        "#wtedy uzyc bardziej skomplikowany model albo dodac wiecej features"
      ]
    },
    {
      "cell_type": "code",
      "execution_count": null,
      "metadata": {
        "id": "nosfuQYxxMcF",
        "colab": {
          "base_uri": "https://localhost:8080/"
        },
        "outputId": "189fc803-fa60-48fe-92ed-426905bcb286"
      },
      "outputs": [
        {
          "output_type": "stream",
          "name": "stdout",
          "text": [
            "204/204 [==============================] - 0s 1ms/step - loss: 0.4212 - accuracy: 0.8021\n",
            "Test score: 0.4212067425251007\n",
            "Test accuracy: 0.8020881414413452\n"
          ]
        }
      ],
      "source": [
        "score,acc=model.evaluate(X_test,y_test)\n",
        "print('Test score:', score)\n",
        "print('Test accuracy:', acc)\n",
        "# porownac ten wynik z validation\n",
        "#jesli podobnie to jest git\n",
        "#jesli sa duze roznice to model zoverfittowal zbior validation\n",
        "#nie radzi sobie na nowych rzeczach\n",
        "#wtedy zaczynnamy od nowa xD"
      ]
    },
    {
      "cell_type": "markdown",
      "metadata": {
        "id": "_PJrDKLHxMcF"
      },
      "source": [
        "## Task 1\n",
        "Create, train and test a model with following parameters:\n",
        "- First hidden layer: 32 neurons, relu activation\n",
        "- Dropout after first hidden layer keep_probability = 0.5\n",
        "- Second hidden layer: 32 neurons, relu activation\n",
        "- Output layer: 1 neuron, sigmoid activation\n",
        "\n",
        "Training parameters:\n",
        "- Learning Rate: 0.0003\n",
        "- Number of Epochs: 50\n",
        "- Batch size: 128\n",
        "\n",
        "*Note: You will need your model in task 2, so it is a good idea to write a function, which creates the model.*\n",
        "\n",
        "![alt text](./img/model_keras_task1.png \"Task 1 model\")"
      ]
    },
    {
      "cell_type": "code",
      "execution_count": null,
      "metadata": {
        "id": "mZgd2JUVxMcF",
        "colab": {
          "base_uri": "https://localhost:8080/"
        },
        "outputId": "8968e659-a4db-4a26-b596-49c9cf26894f"
      },
      "outputs": [
        {
          "output_type": "stream",
          "name": "stdout",
          "text": [
            "X_train dataset cointains 23 features (columns).\n"
          ]
        }
      ],
      "source": [
        "# HYPERPARAMETERS\n",
        "# ENTER YOUR CODE HERE\n",
        "CELLS_1=32 #warstwy ukryte\n",
        "CELLS_2=32\n",
        "\n",
        "LEARNING_RATE=0.0003\n",
        "EPOCHS=50\n",
        "BATCH_SIZE=128 #kolejne potegi 2 bo komputery licza w systemie 2 nie oplaca sie dawac 100 bo liczy mniej a robi tyle samo ile dla 128\n",
        "\n",
        "NR_INPUTS=X_train.shape[1]\n",
        "print ('X_train dataset cointains {} features (columns).'.format(NR_INPUTS))\n"
      ]
    },
    {
      "cell_type": "code",
      "execution_count": null,
      "metadata": {
        "id": "n6fZyuwkxMcG"
      },
      "outputs": [],
      "source": [
        "def create_model():\n",
        "    # ENTER YOUR CODE HERE\n",
        "    model2=Sequential()\n",
        "    model2.add(Dense(CELLS_1,input_shape=[NR_INPUTS,],activation=\"relu\"))\n",
        "    model2.add(Dropout(0.5))\n",
        "    model2.add(Dense(CELLS_2,activation=\"relu\"))\n",
        "    model2.add(Dense(1,activation='sigmoid'))\n",
        "\n",
        "    optimizer =optimizers.Adam(lr=LEARNING_RATE)\n",
        "    model2.compile(loss='binary_crossentropy',optimizer=optimizer,metrics=['accuracy'])\n",
        "\n",
        "    model2.summary()\n",
        "    return model2\n"
      ]
    },
    {
      "cell_type": "code",
      "source": [
        "model2=create_model()"
      ],
      "metadata": {
        "colab": {
          "base_uri": "https://localhost:8080/"
        },
        "id": "ZXiZbfFSXgcN",
        "outputId": "339ec01d-f86d-49db-b1e2-3be20c666e21"
      },
      "execution_count": null,
      "outputs": [
        {
          "output_type": "stream",
          "name": "stdout",
          "text": [
            "Model: \"sequential_13\"\n",
            "_________________________________________________________________\n",
            " Layer (type)                Output Shape              Param #   \n",
            "=================================================================\n",
            " dense_39 (Dense)            (None, 32)                768       \n",
            "                                                                 \n",
            " dropout_8 (Dropout)         (None, 32)                0         \n",
            "                                                                 \n",
            " dense_40 (Dense)            (None, 32)                1056      \n",
            "                                                                 \n",
            " dense_41 (Dense)            (None, 1)                 33        \n",
            "                                                                 \n",
            "=================================================================\n",
            "Total params: 1,857\n",
            "Trainable params: 1,857\n",
            "Non-trainable params: 0\n",
            "_________________________________________________________________\n"
          ]
        },
        {
          "output_type": "stream",
          "name": "stderr",
          "text": [
            "/usr/local/lib/python3.7/dist-packages/keras/optimizer_v2/adam.py:105: UserWarning: The `lr` argument is deprecated, use `learning_rate` instead.\n",
            "  super(Adam, self).__init__(name, **kwargs)\n"
          ]
        }
      ]
    },
    {
      "cell_type": "code",
      "execution_count": null,
      "metadata": {
        "id": "xt0VlpjcxMcG",
        "colab": {
          "base_uri": "https://localhost:8080/"
        },
        "outputId": "0df49dc4-0496-4dc4-8191-e920fe90ea26"
      },
      "outputs": [
        {
          "output_type": "stream",
          "name": "stdout",
          "text": [
            "Epoch 1/50\n",
            "153/153 [==============================] - 1s 5ms/step - loss: 1.0542 - accuracy: 0.6398 - val_loss: 0.6114 - val_accuracy: 0.7588\n",
            "Epoch 2/50\n",
            "153/153 [==============================] - 1s 3ms/step - loss: 0.6873 - accuracy: 0.6913 - val_loss: 0.5812 - val_accuracy: 0.7591\n",
            "Epoch 3/50\n",
            "153/153 [==============================] - 1s 3ms/step - loss: 0.6194 - accuracy: 0.7260 - val_loss: 0.5670 - val_accuracy: 0.7592\n",
            "Epoch 4/50\n",
            "153/153 [==============================] - 0s 3ms/step - loss: 0.5909 - accuracy: 0.7491 - val_loss: 0.5597 - val_accuracy: 0.7592\n",
            "Epoch 5/50\n",
            "153/153 [==============================] - 0s 3ms/step - loss: 0.5757 - accuracy: 0.7545 - val_loss: 0.5540 - val_accuracy: 0.7592\n",
            "Epoch 6/50\n",
            "153/153 [==============================] - 0s 3ms/step - loss: 0.5653 - accuracy: 0.7582 - val_loss: 0.5471 - val_accuracy: 0.7592\n",
            "Epoch 7/50\n",
            "153/153 [==============================] - 0s 3ms/step - loss: 0.5592 - accuracy: 0.7584 - val_loss: 0.5417 - val_accuracy: 0.7592\n",
            "Epoch 8/50\n",
            "153/153 [==============================] - 0s 3ms/step - loss: 0.5492 - accuracy: 0.7591 - val_loss: 0.5357 - val_accuracy: 0.7592\n",
            "Epoch 9/50\n",
            "153/153 [==============================] - 0s 3ms/step - loss: 0.5457 - accuracy: 0.7590 - val_loss: 0.5286 - val_accuracy: 0.7592\n",
            "Epoch 10/50\n",
            "153/153 [==============================] - 0s 3ms/step - loss: 0.5371 - accuracy: 0.7595 - val_loss: 0.5222 - val_accuracy: 0.7592\n",
            "Epoch 11/50\n",
            "153/153 [==============================] - 0s 3ms/step - loss: 0.5322 - accuracy: 0.7594 - val_loss: 0.5160 - val_accuracy: 0.7592\n",
            "Epoch 12/50\n",
            "153/153 [==============================] - 0s 3ms/step - loss: 0.5226 - accuracy: 0.7601 - val_loss: 0.5112 - val_accuracy: 0.7592\n",
            "Epoch 13/50\n",
            "153/153 [==============================] - 0s 3ms/step - loss: 0.5166 - accuracy: 0.7598 - val_loss: 0.5020 - val_accuracy: 0.7592\n",
            "Epoch 14/50\n",
            "153/153 [==============================] - 1s 4ms/step - loss: 0.5139 - accuracy: 0.7598 - val_loss: 0.4946 - val_accuracy: 0.7592\n",
            "Epoch 15/50\n",
            "153/153 [==============================] - 0s 3ms/step - loss: 0.5066 - accuracy: 0.7617 - val_loss: 0.4880 - val_accuracy: 0.7592\n",
            "Epoch 16/50\n",
            "153/153 [==============================] - 0s 3ms/step - loss: 0.5018 - accuracy: 0.7628 - val_loss: 0.4913 - val_accuracy: 0.7592\n",
            "Epoch 17/50\n",
            "153/153 [==============================] - 0s 3ms/step - loss: 0.4948 - accuracy: 0.7673 - val_loss: 0.4874 - val_accuracy: 0.7592\n",
            "Epoch 18/50\n",
            "153/153 [==============================] - 1s 3ms/step - loss: 0.4908 - accuracy: 0.7687 - val_loss: 0.4827 - val_accuracy: 0.7592\n",
            "Epoch 19/50\n",
            "153/153 [==============================] - 0s 3ms/step - loss: 0.4856 - accuracy: 0.7704 - val_loss: 0.4829 - val_accuracy: 0.7592\n",
            "Epoch 20/50\n",
            "153/153 [==============================] - 0s 3ms/step - loss: 0.4824 - accuracy: 0.7722 - val_loss: 0.4786 - val_accuracy: 0.7592\n",
            "Epoch 21/50\n",
            "153/153 [==============================] - 0s 3ms/step - loss: 0.4804 - accuracy: 0.7745 - val_loss: 0.4771 - val_accuracy: 0.7592\n",
            "Epoch 22/50\n",
            "153/153 [==============================] - 1s 3ms/step - loss: 0.4745 - accuracy: 0.7753 - val_loss: 0.4888 - val_accuracy: 0.7592\n",
            "Epoch 23/50\n",
            "153/153 [==============================] - 0s 3ms/step - loss: 0.4748 - accuracy: 0.7771 - val_loss: 0.4805 - val_accuracy: 0.7592\n",
            "Epoch 24/50\n",
            "153/153 [==============================] - 1s 4ms/step - loss: 0.4719 - accuracy: 0.7777 - val_loss: 0.4738 - val_accuracy: 0.7592\n",
            "Epoch 25/50\n",
            "153/153 [==============================] - 0s 3ms/step - loss: 0.4689 - accuracy: 0.7824 - val_loss: 0.4846 - val_accuracy: 0.7592\n",
            "Epoch 26/50\n",
            "153/153 [==============================] - 0s 3ms/step - loss: 0.4668 - accuracy: 0.7794 - val_loss: 0.4796 - val_accuracy: 0.7592\n",
            "Epoch 27/50\n",
            "153/153 [==============================] - 0s 3ms/step - loss: 0.4649 - accuracy: 0.7813 - val_loss: 0.4916 - val_accuracy: 0.7592\n",
            "Epoch 28/50\n",
            "153/153 [==============================] - 0s 3ms/step - loss: 0.4641 - accuracy: 0.7830 - val_loss: 0.4849 - val_accuracy: 0.7592\n",
            "Epoch 29/50\n",
            "153/153 [==============================] - 0s 3ms/step - loss: 0.4612 - accuracy: 0.7840 - val_loss: 0.4915 - val_accuracy: 0.7592\n",
            "Epoch 30/50\n",
            "153/153 [==============================] - 1s 3ms/step - loss: 0.4593 - accuracy: 0.7847 - val_loss: 0.4739 - val_accuracy: 0.7592\n",
            "Epoch 31/50\n",
            "153/153 [==============================] - 0s 3ms/step - loss: 0.4549 - accuracy: 0.7842 - val_loss: 0.4766 - val_accuracy: 0.7592\n",
            "Epoch 32/50\n",
            "153/153 [==============================] - 0s 3ms/step - loss: 0.4566 - accuracy: 0.7828 - val_loss: 0.4773 - val_accuracy: 0.7592\n",
            "Epoch 33/50\n",
            "153/153 [==============================] - 0s 3ms/step - loss: 0.4561 - accuracy: 0.7853 - val_loss: 0.4756 - val_accuracy: 0.7592\n",
            "Epoch 34/50\n",
            "153/153 [==============================] - 1s 4ms/step - loss: 0.4548 - accuracy: 0.7870 - val_loss: 0.4805 - val_accuracy: 0.7592\n",
            "Epoch 35/50\n",
            "153/153 [==============================] - 0s 3ms/step - loss: 0.4531 - accuracy: 0.7872 - val_loss: 0.4657 - val_accuracy: 0.7595\n",
            "Epoch 36/50\n",
            "153/153 [==============================] - 0s 3ms/step - loss: 0.4499 - accuracy: 0.7862 - val_loss: 0.4809 - val_accuracy: 0.7595\n",
            "Epoch 37/50\n",
            "153/153 [==============================] - 0s 3ms/step - loss: 0.4531 - accuracy: 0.7866 - val_loss: 0.4913 - val_accuracy: 0.7592\n",
            "Epoch 38/50\n",
            "153/153 [==============================] - 0s 3ms/step - loss: 0.4484 - accuracy: 0.7870 - val_loss: 0.4801 - val_accuracy: 0.7595\n",
            "Epoch 39/50\n",
            "153/153 [==============================] - 0s 3ms/step - loss: 0.4483 - accuracy: 0.7903 - val_loss: 0.4898 - val_accuracy: 0.7592\n",
            "Epoch 40/50\n",
            "153/153 [==============================] - 1s 3ms/step - loss: 0.4491 - accuracy: 0.7863 - val_loss: 0.4656 - val_accuracy: 0.7606\n",
            "Epoch 41/50\n",
            "153/153 [==============================] - 0s 3ms/step - loss: 0.4465 - accuracy: 0.7869 - val_loss: 0.4958 - val_accuracy: 0.7592\n",
            "Epoch 42/50\n",
            "153/153 [==============================] - 0s 3ms/step - loss: 0.4476 - accuracy: 0.7868 - val_loss: 0.4669 - val_accuracy: 0.7597\n",
            "Epoch 43/50\n",
            "153/153 [==============================] - 0s 3ms/step - loss: 0.4474 - accuracy: 0.7874 - val_loss: 0.4895 - val_accuracy: 0.7595\n",
            "Epoch 44/50\n",
            "153/153 [==============================] - 0s 3ms/step - loss: 0.4443 - accuracy: 0.7896 - val_loss: 0.4979 - val_accuracy: 0.7592\n",
            "Epoch 45/50\n",
            "153/153 [==============================] - 0s 3ms/step - loss: 0.4443 - accuracy: 0.7926 - val_loss: 0.4980 - val_accuracy: 0.7592\n",
            "Epoch 46/50\n",
            "153/153 [==============================] - 0s 3ms/step - loss: 0.4420 - accuracy: 0.7937 - val_loss: 0.4812 - val_accuracy: 0.7595\n",
            "Epoch 47/50\n",
            "153/153 [==============================] - 1s 4ms/step - loss: 0.4442 - accuracy: 0.7890 - val_loss: 0.5105 - val_accuracy: 0.7592\n",
            "Epoch 48/50\n",
            "153/153 [==============================] - 1s 4ms/step - loss: 0.4421 - accuracy: 0.7930 - val_loss: 0.5106 - val_accuracy: 0.7592\n",
            "Epoch 49/50\n",
            "153/153 [==============================] - 1s 3ms/step - loss: 0.4411 - accuracy: 0.7921 - val_loss: 0.5282 - val_accuracy: 0.7592\n",
            "Epoch 50/50\n",
            "153/153 [==============================] - 1s 3ms/step - loss: 0.4412 - accuracy: 0.7923 - val_loss: 0.4928 - val_accuracy: 0.7595\n"
          ]
        }
      ],
      "source": [
        "history2=model2.fit(X_train,y_train,\n",
        "                  validation_data=(X_valid,y_valid),\n",
        "                  batch_size=BATCH_SIZE,\n",
        "                  epochs=EPOCHS\n",
        ")\n"
      ]
    },
    {
      "cell_type": "code",
      "execution_count": null,
      "metadata": {
        "id": "iA4P5fYSxMcG",
        "colab": {
          "base_uri": "https://localhost:8080/",
          "height": 268
        },
        "outputId": "522e57ca-16cd-4a98-99c0-5bb6cfe5b00d"
      },
      "outputs": [
        {
          "output_type": "display_data",
          "data": {
            "text/plain": [
              "<Figure size 576x288 with 2 Axes>"
            ],
            "image/png": "[encoded data removed]"
          },
          "metadata": {
            "needs_background": "light"
          }
        }
      ],
      "source": [
        "# ENTER YOUR CODE HERE\n",
        "plot_train_valid_history(history2)"
      ]
    },
    {
      "cell_type": "code",
      "source": [
        "score,acc=model2.evaluate(X_test,y_test)\n",
        "print('Test score:', score)\n",
        "print('Test accuracy:', acc)"
      ],
      "metadata": {
        "colab": {
          "base_uri": "https://localhost:8080/"
        },
        "id": "DsAoK1JBgXvo",
        "outputId": "787ab685-28ee-4881-ee07-7a79b5df35d1"
      },
      "execution_count": null,
      "outputs": [
        {
          "output_type": "stream",
          "name": "stdout",
          "text": [
            "204/204 [==============================] - 0s 2ms/step - loss: 0.4929 - accuracy: 0.7591\n",
            "Test score: 0.49294954538345337\n",
            "Test accuracy: 0.7590972185134888\n"
          ]
        }
      ]
    },
    {
      "cell_type": "markdown",
      "metadata": {
        "id": "TBn5itjixMcG"
      },
      "source": [
        "## Question 1\n",
        "- How does the model behave. Can you see any overfitting or undergitting problems?\n",
        "- How you can prevent these problems?"
      ]
    },
    {
      "cell_type": "markdown",
      "metadata": {
        "id": "0eqcKR3AxMcG"
      },
      "source": [
        "## Task 2\n",
        "Normalize your features. Use StandardScaler from sklearn.preprocessing library. Then train your model on the normalized features. Did it change anything with the behaviour of the model?"
      ]
    },
    {
      "cell_type": "code",
      "execution_count": null,
      "metadata": {
        "id": "B-FB3ywZxMcH"
      },
      "outputs": [],
      "source": [
        "from sklearn.preprocessing import StandardScaler\n",
        "# ENTER YOUR CODE HERE\n",
        "standard=StandardScaler()\n",
        "X_train=standard.fit_transform(X_train)\n",
        "X_test=standard.transform(X_test)\n",
        "X_valid=standard.transform(X_valid)\n",
        "\n",
        "# fit tylko na zbiorze treningowym zeby uniknac data leakage\n",
        "#transform na wszystkich"
      ]
    },
    {
      "cell_type": "code",
      "execution_count": null,
      "metadata": {
        "id": "9PKjr58lxMcH",
        "colab": {
          "base_uri": "https://localhost:8080/"
        },
        "outputId": "bf06b72d-e81f-4492-82f0-3fd7d62fdcf1"
      },
      "outputs": [
        {
          "output_type": "stream",
          "name": "stdout",
          "text": [
            "Model: \"sequential_14\"\n",
            "_________________________________________________________________\n",
            " Layer (type)                Output Shape              Param #   \n",
            "=================================================================\n",
            " dense_42 (Dense)            (None, 32)                768       \n",
            "                                                                 \n",
            " dropout_9 (Dropout)         (None, 32)                0         \n",
            "                                                                 \n",
            " dense_43 (Dense)            (None, 32)                1056      \n",
            "                                                                 \n",
            " dense_44 (Dense)            (None, 1)                 33        \n",
            "                                                                 \n",
            "=================================================================\n",
            "Total params: 1,857\n",
            "Trainable params: 1,857\n",
            "Non-trainable params: 0\n",
            "_________________________________________________________________\n"
          ]
        },
        {
          "output_type": "stream",
          "name": "stderr",
          "text": [
            "/usr/local/lib/python3.7/dist-packages/keras/optimizer_v2/adam.py:105: UserWarning: The `lr` argument is deprecated, use `learning_rate` instead.\n",
            "  super(Adam, self).__init__(name, **kwargs)\n"
          ]
        }
      ],
      "source": [
        "# Create and train the model\n",
        "# ENTER YOUR CODE HERE\n",
        "model3=create_model()\n",
        "\n"
      ]
    },
    {
      "cell_type": "code",
      "execution_count": null,
      "metadata": {
        "id": "qWkdEwlWxMcH",
        "colab": {
          "base_uri": "https://localhost:8080/"
        },
        "outputId": "bae1a3ce-d763-4b4b-afa1-d34365c30728"
      },
      "outputs": [
        {
          "output_type": "stream",
          "name": "stdout",
          "text": [
            "Epoch 1/50\n",
            "153/153 [==============================] - 1s 4ms/step - loss: 0.5457 - accuracy: 0.7441 - val_loss: 0.4829 - val_accuracy: 0.7604\n",
            "Epoch 2/50\n",
            "153/153 [==============================] - 1s 4ms/step - loss: 0.4897 - accuracy: 0.7634 - val_loss: 0.4502 - val_accuracy: 0.7796\n",
            "Epoch 3/50\n",
            "153/153 [==============================] - 0s 3ms/step - loss: 0.4680 - accuracy: 0.7701 - val_loss: 0.4339 - val_accuracy: 0.8030\n",
            "Epoch 4/50\n",
            "153/153 [==============================] - 0s 3ms/step - loss: 0.4600 - accuracy: 0.7791 - val_loss: 0.4251 - val_accuracy: 0.8099\n",
            "Epoch 5/50\n",
            "153/153 [==============================] - 1s 3ms/step - loss: 0.4488 - accuracy: 0.7847 - val_loss: 0.4192 - val_accuracy: 0.8130\n",
            "Epoch 6/50\n",
            "153/153 [==============================] - 0s 3ms/step - loss: 0.4445 - accuracy: 0.7907 - val_loss: 0.4147 - val_accuracy: 0.8120\n",
            "Epoch 7/50\n",
            "153/153 [==============================] - 1s 3ms/step - loss: 0.4438 - accuracy: 0.7880 - val_loss: 0.4113 - val_accuracy: 0.8168\n",
            "Epoch 8/50\n",
            "153/153 [==============================] - 1s 3ms/step - loss: 0.4386 - accuracy: 0.7927 - val_loss: 0.4091 - val_accuracy: 0.8136\n",
            "Epoch 9/50\n",
            "153/153 [==============================] - 1s 4ms/step - loss: 0.4352 - accuracy: 0.7919 - val_loss: 0.4071 - val_accuracy: 0.8148\n",
            "Epoch 10/50\n",
            "153/153 [==============================] - 0s 3ms/step - loss: 0.4349 - accuracy: 0.7963 - val_loss: 0.4054 - val_accuracy: 0.8174\n",
            "Epoch 11/50\n",
            "153/153 [==============================] - 1s 4ms/step - loss: 0.4294 - accuracy: 0.7948 - val_loss: 0.4035 - val_accuracy: 0.8171\n",
            "Epoch 12/50\n",
            "153/153 [==============================] - 0s 3ms/step - loss: 0.4269 - accuracy: 0.7980 - val_loss: 0.4017 - val_accuracy: 0.8183\n",
            "Epoch 13/50\n",
            "153/153 [==============================] - 0s 3ms/step - loss: 0.4261 - accuracy: 0.7970 - val_loss: 0.4019 - val_accuracy: 0.8179\n",
            "Epoch 14/50\n",
            "153/153 [==============================] - 0s 3ms/step - loss: 0.4246 - accuracy: 0.8004 - val_loss: 0.4007 - val_accuracy: 0.8177\n",
            "Epoch 15/50\n",
            "153/153 [==============================] - 1s 3ms/step - loss: 0.4245 - accuracy: 0.8008 - val_loss: 0.4009 - val_accuracy: 0.8168\n",
            "Epoch 16/50\n",
            "153/153 [==============================] - 0s 3ms/step - loss: 0.4196 - accuracy: 0.8033 - val_loss: 0.4000 - val_accuracy: 0.8173\n",
            "Epoch 17/50\n",
            "153/153 [==============================] - 1s 3ms/step - loss: 0.4219 - accuracy: 0.8034 - val_loss: 0.3983 - val_accuracy: 0.8188\n",
            "Epoch 18/50\n",
            "153/153 [==============================] - 1s 4ms/step - loss: 0.4189 - accuracy: 0.8036 - val_loss: 0.3986 - val_accuracy: 0.8188\n",
            "Epoch 19/50\n",
            "153/153 [==============================] - 0s 3ms/step - loss: 0.4193 - accuracy: 0.8029 - val_loss: 0.3979 - val_accuracy: 0.8189\n",
            "Epoch 20/50\n",
            "153/153 [==============================] - 0s 3ms/step - loss: 0.4163 - accuracy: 0.8065 - val_loss: 0.3991 - val_accuracy: 0.8186\n",
            "Epoch 21/50\n",
            "153/153 [==============================] - 0s 3ms/step - loss: 0.4166 - accuracy: 0.8036 - val_loss: 0.3967 - val_accuracy: 0.8194\n",
            "Epoch 22/50\n",
            "153/153 [==============================] - 1s 4ms/step - loss: 0.4161 - accuracy: 0.8078 - val_loss: 0.3961 - val_accuracy: 0.8217\n",
            "Epoch 23/50\n",
            "153/153 [==============================] - 0s 3ms/step - loss: 0.4157 - accuracy: 0.8078 - val_loss: 0.3968 - val_accuracy: 0.8199\n",
            "Epoch 24/50\n",
            "153/153 [==============================] - 0s 3ms/step - loss: 0.4142 - accuracy: 0.8075 - val_loss: 0.3960 - val_accuracy: 0.8203\n",
            "Epoch 25/50\n",
            "153/153 [==============================] - 1s 4ms/step - loss: 0.4142 - accuracy: 0.8061 - val_loss: 0.3960 - val_accuracy: 0.8225\n",
            "Epoch 26/50\n",
            "153/153 [==============================] - 1s 4ms/step - loss: 0.4131 - accuracy: 0.8047 - val_loss: 0.3953 - val_accuracy: 0.8219\n",
            "Epoch 27/50\n",
            "153/153 [==============================] - 1s 4ms/step - loss: 0.4147 - accuracy: 0.8093 - val_loss: 0.3954 - val_accuracy: 0.8222\n",
            "Epoch 28/50\n",
            "153/153 [==============================] - 1s 3ms/step - loss: 0.4125 - accuracy: 0.8085 - val_loss: 0.3955 - val_accuracy: 0.8229\n",
            "Epoch 29/50\n",
            "153/153 [==============================] - 1s 3ms/step - loss: 0.4120 - accuracy: 0.8081 - val_loss: 0.3947 - val_accuracy: 0.8231\n",
            "Epoch 30/50\n",
            "153/153 [==============================] - 0s 3ms/step - loss: 0.4111 - accuracy: 0.8099 - val_loss: 0.3953 - val_accuracy: 0.8226\n",
            "Epoch 31/50\n",
            "153/153 [==============================] - 0s 3ms/step - loss: 0.4097 - accuracy: 0.8087 - val_loss: 0.3949 - val_accuracy: 0.8236\n",
            "Epoch 32/50\n",
            "153/153 [==============================] - 0s 3ms/step - loss: 0.4091 - accuracy: 0.8096 - val_loss: 0.3931 - val_accuracy: 0.8240\n",
            "Epoch 33/50\n",
            "153/153 [==============================] - 0s 3ms/step - loss: 0.4113 - accuracy: 0.8109 - val_loss: 0.3948 - val_accuracy: 0.8234\n",
            "Epoch 34/50\n",
            "153/153 [==============================] - 0s 3ms/step - loss: 0.4093 - accuracy: 0.8104 - val_loss: 0.3951 - val_accuracy: 0.8228\n",
            "Epoch 35/50\n",
            "153/153 [==============================] - 0s 3ms/step - loss: 0.4064 - accuracy: 0.8129 - val_loss: 0.3937 - val_accuracy: 0.8229\n",
            "Epoch 36/50\n",
            "153/153 [==============================] - 0s 3ms/step - loss: 0.4067 - accuracy: 0.8119 - val_loss: 0.3932 - val_accuracy: 0.8229\n",
            "Epoch 37/50\n",
            "153/153 [==============================] - 0s 3ms/step - loss: 0.4076 - accuracy: 0.8091 - val_loss: 0.3947 - val_accuracy: 0.8232\n",
            "Epoch 38/50\n",
            "153/153 [==============================] - 0s 3ms/step - loss: 0.4077 - accuracy: 0.8120 - val_loss: 0.3951 - val_accuracy: 0.8231\n",
            "Epoch 39/50\n",
            "153/153 [==============================] - 0s 3ms/step - loss: 0.4068 - accuracy: 0.8122 - val_loss: 0.3945 - val_accuracy: 0.8223\n",
            "Epoch 40/50\n",
            "153/153 [==============================] - 1s 4ms/step - loss: 0.4080 - accuracy: 0.8134 - val_loss: 0.3941 - val_accuracy: 0.8229\n",
            "Epoch 41/50\n",
            "153/153 [==============================] - 0s 3ms/step - loss: 0.4081 - accuracy: 0.8123 - val_loss: 0.3947 - val_accuracy: 0.8229\n",
            "Epoch 42/50\n",
            "153/153 [==============================] - 1s 4ms/step - loss: 0.4054 - accuracy: 0.8107 - val_loss: 0.3941 - val_accuracy: 0.8225\n",
            "Epoch 43/50\n",
            "153/153 [==============================] - 0s 3ms/step - loss: 0.4073 - accuracy: 0.8114 - val_loss: 0.3942 - val_accuracy: 0.8225\n",
            "Epoch 44/50\n",
            "153/153 [==============================] - 1s 4ms/step - loss: 0.4056 - accuracy: 0.8151 - val_loss: 0.3945 - val_accuracy: 0.8234\n",
            "Epoch 45/50\n",
            "153/153 [==============================] - 0s 3ms/step - loss: 0.4057 - accuracy: 0.8156 - val_loss: 0.3946 - val_accuracy: 0.8237\n",
            "Epoch 46/50\n",
            "153/153 [==============================] - 1s 3ms/step - loss: 0.4068 - accuracy: 0.8133 - val_loss: 0.3947 - val_accuracy: 0.8237\n",
            "Epoch 47/50\n",
            "153/153 [==============================] - 1s 3ms/step - loss: 0.4019 - accuracy: 0.8160 - val_loss: 0.3959 - val_accuracy: 0.8234\n",
            "Epoch 48/50\n",
            "153/153 [==============================] - 1s 4ms/step - loss: 0.4060 - accuracy: 0.8132 - val_loss: 0.3948 - val_accuracy: 0.8234\n",
            "Epoch 49/50\n",
            "153/153 [==============================] - 1s 4ms/step - loss: 0.4037 - accuracy: 0.8164 - val_loss: 0.3944 - val_accuracy: 0.8237\n",
            "Epoch 50/50\n",
            "153/153 [==============================] - 0s 3ms/step - loss: 0.4037 - accuracy: 0.8153 - val_loss: 0.3939 - val_accuracy: 0.8228\n"
          ]
        }
      ],
      "source": [
        "history3=model3.fit(X_train,y_train,\n",
        "                  validation_data=(X_valid,y_valid),\n",
        "                  batch_size=BATCH_SIZE,\n",
        "                  epochs=EPOCHS\n",
        ")"
      ]
    },
    {
      "cell_type": "code",
      "execution_count": null,
      "metadata": {
        "id": "rMqrGqkTxMcH",
        "colab": {
          "base_uri": "https://localhost:8080/",
          "height": 265
        },
        "outputId": "6904ca8d-84db-45f7-ae46-d0d02241a799"
      },
      "outputs": [
        {
          "output_type": "display_data",
          "data": {
            "text/plain": [
              "<Figure size 576x288 with 2 Axes>"
            ],
            "image/png": "[encoded data removed]"
          },
          "metadata": {
            "needs_background": "light"
          }
        }
      ],
      "source": [
        "plot_train_valid_history(history3)"
      ]
    },
    {
      "cell_type": "code",
      "execution_count": null,
      "metadata": {
        "id": "xbs5QCZhxMcH",
        "colab": {
          "base_uri": "https://localhost:8080/"
        },
        "outputId": "13f374aa-6f7a-41e0-ed92-3e1e83b25d02"
      },
      "outputs": [
        {
          "output_type": "stream",
          "name": "stdout",
          "text": [
            "204/204 [==============================] - 0s 2ms/step - loss: 0.3999 - accuracy: 0.8174\n",
            "Test score: 0.3998812735080719\n",
            "Test accuracy: 0.8174420595169067\n"
          ]
        }
      ],
      "source": [
        "score,acc=model3.evaluate(X_test,y_test)\n",
        "print('Test score:', score)\n",
        "print('Test accuracy:', acc)"
      ]
    }
  ],
  "metadata": {
    "kernelspec": {
      "display_name": "Python 3",
      "language": "python",
      "name": "python3"
    },
    "language_info": {
      "codemirror_mode": {
        "name": "ipython",
        "version": 3
      },
      "file_extension": ".py",
      "mimetype": "text/x-python",
      "name": "python",
      "nbconvert_exporter": "python",
      "pygments_lexer": "ipython3",
      "version": "3.8.8"
    },
    "colab": {
      "name": "Keras",
      "provenance": [],
      "collapsed_sections": [
        "szC_-R46xMcC"
      ]
    },
    "accelerator": "TPU"
  },
  "nbformat": 4,
  "nbformat_minor": 0
}